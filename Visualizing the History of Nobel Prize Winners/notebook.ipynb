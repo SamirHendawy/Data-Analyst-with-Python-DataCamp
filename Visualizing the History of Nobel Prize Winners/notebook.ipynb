{
 "cells": [
  {
   "cell_type": "markdown",
   "id": "db5bd2ce-918a-4f7d-a927-a3ea74c4b456",
   "metadata": {},
   "source": [
    "The Nobel Prize has been among the most prestigious international awards since 1901. Each year, awards are bestowed in chemistry, literature, physics, physiology or medicine, economics, and peace. In addition to the honor, prestige, and substantial prize money, the recipient also gets a gold medal with an image of Alfred Nobel (1833 - 1896), who established the prize.\n",
    "\n",
    "![](Nobel_Prize.png)\n",
    "\n",
    "The Nobel Foundation has made a dataset available of all prize winners from the outset of the awards from 1901 to 2023. The dataset used in this project is from the Nobel Prize API and is available in the `nobel.csv` file in the `data` folder.\n",
    "\n",
    "In this project, you'll get a chance to explore and answer several questions related to this prizewinning data. And we encourage you then to explore further questions that you're interested in!"
   ]
  },
  {
   "cell_type": "code",
   "execution_count": 125,
   "id": "11fd5946-7bd1-495c-aa7f-ff6e7e4a350b",
   "metadata": {
    "executionCancelledAt": null,
    "executionTime": 13,
    "lastExecutedAt": 1703111134945,
    "lastScheduledRunId": null,
    "lastSuccessfullyExecutedCode": "# Loading in required libraries\nimport pandas as pd\nimport seaborn as sns\nimport numpy as np"
   },
   "outputs": [],
   "source": [
    "# Loading in required libraries\n",
    "import pandas as pd\n",
    "import seaborn as sns\n",
    "import numpy as np"
   ]
  },
  {
   "cell_type": "markdown",
   "id": "1139efd7-1c79-4a98-aca8-726bb4f305d1",
   "metadata": {},
   "source": [
    "### Load the dataset and find the most common gender and birth country"
   ]
  },
  {
   "cell_type": "code",
   "execution_count": 109,
   "id": "4310ded3-0f4f-42d0-9b9c-732182e0b83c",
   "metadata": {
    "executionCancelledAt": null,
    "executionTime": 49,
    "lastExecutedAt": 1703110945729,
    "lastScheduledRunId": null,
    "lastSuccessfullyExecutedCode": "nobel = pd.read_csv(\"data/nobel.csv\")\nnobel.head()",
    "outputsMetadata": {
     "0": {
      "height": 213,
      "type": "dataFrame"
     }
    }
   },
   "outputs": [
    {
     "data": {
      "application/com.datacamp.data-table.v2+json": {
       "table": {
        "data": {
         "birth_city": [
          "Rotterdam",
          "Paris",
          "Hansdorf (Lawice)",
          "Geneva",
          "Paris"
         ],
         "birth_country": [
          "Netherlands",
          "France",
          "Prussia (Poland)",
          "Switzerland",
          "France"
         ],
         "birth_date": [
          "1852-08-30",
          "1839-03-16",
          "1854-03-15",
          "1828-05-08",
          "1822-05-20"
         ],
         "category": [
          "Chemistry",
          "Literature",
          "Medicine",
          "Peace",
          "Peace"
         ],
         "death_city": [
          "Berlin",
          "Châtenay",
          "Marburg",
          "Heiden",
          "Paris"
         ],
         "death_country": [
          "Germany",
          "France",
          "Germany",
          "Switzerland",
          "France"
         ],
         "death_date": [
          "1911-03-01",
          "1907-09-07",
          "1917-03-31",
          "1910-10-30",
          "1912-06-12"
         ],
         "full_name": [
          "Jacobus Henricus van 't Hoff",
          "Sully Prudhomme",
          "Emil Adolf von Behring",
          "Jean Henry Dunant",
          "Frédéric Passy"
         ],
         "index": [
          0,
          1,
          2,
          3,
          4
         ],
         "laureate_id": [
          160,
          569,
          293,
          462,
          463
         ],
         "laureate_type": [
          "Individual",
          "Individual",
          "Individual",
          "Individual",
          "Individual"
         ],
         "motivation": [
          "\"in recognition of the extraordinary services he has rendered by the discovery of the laws of chemical dynamics and osmotic pressure in solutions\"",
          "\"in special recognition of his poetic composition, which gives evidence of lofty idealism, artistic perfection and a rare combination of the qualities of both heart and intellect\"",
          "\"for his work on serum therapy, especially its application against diphtheria, by which he has opened a new road in the domain of medical science and thereby placed in the hands of the physician a victorious weapon against illness and deaths\"",
          null,
          null
         ],
         "organization_city": [
          "Berlin",
          null,
          "Marburg",
          null,
          null
         ],
         "organization_country": [
          "Germany",
          null,
          "Germany",
          null,
          null
         ],
         "organization_name": [
          "Berlin University",
          null,
          "Marburg University",
          null,
          null
         ],
         "prize": [
          "The Nobel Prize in Chemistry 1901",
          "The Nobel Prize in Literature 1901",
          "The Nobel Prize in Physiology or Medicine 1901",
          "The Nobel Peace Prize 1901",
          "The Nobel Peace Prize 1901"
         ],
         "prize_share": [
          "1/1",
          "1/1",
          "1/1",
          "1/2",
          "1/2"
         ],
         "sex": [
          "Male",
          "Male",
          "Male",
          "Male",
          "Male"
         ],
         "year": [
          1901,
          1901,
          1901,
          1901,
          1901
         ]
        },
        "schema": {
         "fields": [
          {
           "name": "index",
           "type": "integer"
          },
          {
           "name": "year",
           "type": "integer"
          },
          {
           "name": "category",
           "type": "string"
          },
          {
           "name": "prize",
           "type": "string"
          },
          {
           "name": "motivation",
           "type": "string"
          },
          {
           "name": "prize_share",
           "type": "string"
          },
          {
           "name": "laureate_id",
           "type": "integer"
          },
          {
           "name": "laureate_type",
           "type": "string"
          },
          {
           "name": "full_name",
           "type": "string"
          },
          {
           "name": "birth_date",
           "type": "string"
          },
          {
           "name": "birth_city",
           "type": "string"
          },
          {
           "name": "birth_country",
           "type": "string"
          },
          {
           "name": "sex",
           "type": "string"
          },
          {
           "name": "organization_name",
           "type": "string"
          },
          {
           "name": "organization_city",
           "type": "string"
          },
          {
           "name": "organization_country",
           "type": "string"
          },
          {
           "name": "death_date",
           "type": "string"
          },
          {
           "name": "death_city",
           "type": "string"
          },
          {
           "name": "death_country",
           "type": "string"
          }
         ],
         "pandas_version": "1.4.0",
         "primaryKey": [
          "index"
         ]
        }
       },
       "total_rows": 5,
       "truncation_type": null
      },
      "text/html": [
       "<div>\n",
       "<style scoped>\n",
       "    .dataframe tbody tr th:only-of-type {\n",
       "        vertical-align: middle;\n",
       "    }\n",
       "\n",
       "    .dataframe tbody tr th {\n",
       "        vertical-align: top;\n",
       "    }\n",
       "\n",
       "    .dataframe thead th {\n",
       "        text-align: right;\n",
       "    }\n",
       "</style>\n",
       "<table border=\"1\" class=\"dataframe\">\n",
       "  <thead>\n",
       "    <tr style=\"text-align: right;\">\n",
       "      <th></th>\n",
       "      <th>year</th>\n",
       "      <th>category</th>\n",
       "      <th>prize</th>\n",
       "      <th>motivation</th>\n",
       "      <th>prize_share</th>\n",
       "      <th>laureate_id</th>\n",
       "      <th>laureate_type</th>\n",
       "      <th>full_name</th>\n",
       "      <th>birth_date</th>\n",
       "      <th>birth_city</th>\n",
       "      <th>birth_country</th>\n",
       "      <th>sex</th>\n",
       "      <th>organization_name</th>\n",
       "      <th>organization_city</th>\n",
       "      <th>organization_country</th>\n",
       "      <th>death_date</th>\n",
       "      <th>death_city</th>\n",
       "      <th>death_country</th>\n",
       "    </tr>\n",
       "  </thead>\n",
       "  <tbody>\n",
       "    <tr>\n",
       "      <th>0</th>\n",
       "      <td>1901</td>\n",
       "      <td>Chemistry</td>\n",
       "      <td>The Nobel Prize in Chemistry 1901</td>\n",
       "      <td>\"in recognition of the extraordinary services ...</td>\n",
       "      <td>1/1</td>\n",
       "      <td>160</td>\n",
       "      <td>Individual</td>\n",
       "      <td>Jacobus Henricus van 't Hoff</td>\n",
       "      <td>1852-08-30</td>\n",
       "      <td>Rotterdam</td>\n",
       "      <td>Netherlands</td>\n",
       "      <td>Male</td>\n",
       "      <td>Berlin University</td>\n",
       "      <td>Berlin</td>\n",
       "      <td>Germany</td>\n",
       "      <td>1911-03-01</td>\n",
       "      <td>Berlin</td>\n",
       "      <td>Germany</td>\n",
       "    </tr>\n",
       "    <tr>\n",
       "      <th>1</th>\n",
       "      <td>1901</td>\n",
       "      <td>Literature</td>\n",
       "      <td>The Nobel Prize in Literature 1901</td>\n",
       "      <td>\"in special recognition of his poetic composit...</td>\n",
       "      <td>1/1</td>\n",
       "      <td>569</td>\n",
       "      <td>Individual</td>\n",
       "      <td>Sully Prudhomme</td>\n",
       "      <td>1839-03-16</td>\n",
       "      <td>Paris</td>\n",
       "      <td>France</td>\n",
       "      <td>Male</td>\n",
       "      <td>NaN</td>\n",
       "      <td>NaN</td>\n",
       "      <td>NaN</td>\n",
       "      <td>1907-09-07</td>\n",
       "      <td>Châtenay</td>\n",
       "      <td>France</td>\n",
       "    </tr>\n",
       "    <tr>\n",
       "      <th>2</th>\n",
       "      <td>1901</td>\n",
       "      <td>Medicine</td>\n",
       "      <td>The Nobel Prize in Physiology or Medicine 1901</td>\n",
       "      <td>\"for his work on serum therapy, especially its...</td>\n",
       "      <td>1/1</td>\n",
       "      <td>293</td>\n",
       "      <td>Individual</td>\n",
       "      <td>Emil Adolf von Behring</td>\n",
       "      <td>1854-03-15</td>\n",
       "      <td>Hansdorf (Lawice)</td>\n",
       "      <td>Prussia (Poland)</td>\n",
       "      <td>Male</td>\n",
       "      <td>Marburg University</td>\n",
       "      <td>Marburg</td>\n",
       "      <td>Germany</td>\n",
       "      <td>1917-03-31</td>\n",
       "      <td>Marburg</td>\n",
       "      <td>Germany</td>\n",
       "    </tr>\n",
       "    <tr>\n",
       "      <th>3</th>\n",
       "      <td>1901</td>\n",
       "      <td>Peace</td>\n",
       "      <td>The Nobel Peace Prize 1901</td>\n",
       "      <td>NaN</td>\n",
       "      <td>1/2</td>\n",
       "      <td>462</td>\n",
       "      <td>Individual</td>\n",
       "      <td>Jean Henry Dunant</td>\n",
       "      <td>1828-05-08</td>\n",
       "      <td>Geneva</td>\n",
       "      <td>Switzerland</td>\n",
       "      <td>Male</td>\n",
       "      <td>NaN</td>\n",
       "      <td>NaN</td>\n",
       "      <td>NaN</td>\n",
       "      <td>1910-10-30</td>\n",
       "      <td>Heiden</td>\n",
       "      <td>Switzerland</td>\n",
       "    </tr>\n",
       "    <tr>\n",
       "      <th>4</th>\n",
       "      <td>1901</td>\n",
       "      <td>Peace</td>\n",
       "      <td>The Nobel Peace Prize 1901</td>\n",
       "      <td>NaN</td>\n",
       "      <td>1/2</td>\n",
       "      <td>463</td>\n",
       "      <td>Individual</td>\n",
       "      <td>Frédéric Passy</td>\n",
       "      <td>1822-05-20</td>\n",
       "      <td>Paris</td>\n",
       "      <td>France</td>\n",
       "      <td>Male</td>\n",
       "      <td>NaN</td>\n",
       "      <td>NaN</td>\n",
       "      <td>NaN</td>\n",
       "      <td>1912-06-12</td>\n",
       "      <td>Paris</td>\n",
       "      <td>France</td>\n",
       "    </tr>\n",
       "  </tbody>\n",
       "</table>\n",
       "</div>"
      ],
      "text/plain": [
       "   year    category  ... death_city death_country\n",
       "0  1901   Chemistry  ...     Berlin       Germany\n",
       "1  1901  Literature  ...   Châtenay        France\n",
       "2  1901    Medicine  ...    Marburg       Germany\n",
       "3  1901       Peace  ...     Heiden   Switzerland\n",
       "4  1901       Peace  ...      Paris        France\n",
       "\n",
       "[5 rows x 18 columns]"
      ]
     },
     "execution_count": 109,
     "metadata": {},
     "output_type": "execute_result"
    }
   ],
   "source": [
    "nobel = pd.read_csv(\"data/nobel.csv\")\n",
    "nobel.head()"
   ]
  },
  {
   "cell_type": "code",
   "execution_count": 126,
   "id": "1614f306-c18b-4229-8d03-0fb8b1eba68b",
   "metadata": {
    "executionCancelledAt": null,
    "executionTime": 16,
    "lastExecutedAt": 1703111141477,
    "lastScheduledRunId": null,
    "lastSuccessfullyExecutedCode": "## Store Top Gender\ntop_gender = nobel[\"sex\"].value_counts().index[0]\n## Store Top Country\ntop_country = nobel[\"birth_country\"].value_counts().index[0]\n## Display Top Gender\nprint(f\"The gender with the most Nobel laureates is : {top_gender}\")\n## Display Top Country\nprint(f\"The most common birth country of Nobel laureates is : {top_country}\")",
    "outputsMetadata": {
     "0": {
      "height": 57,
      "type": "stream"
     }
    }
   },
   "outputs": [
    {
     "name": "stdout",
     "output_type": "stream",
     "text": [
      "The gender with the most Nobel laureates is : Male\n",
      "The most common birth country of Nobel laureates is : United States of America\n"
     ]
    }
   ],
   "source": [
    "## Store Top Gender\n",
    "top_gender = nobel[\"sex\"].value_counts().index[0]\n",
    "## Store Top Country\n",
    "top_country = nobel[\"birth_country\"].value_counts().index[0]\n",
    "## Display Top Gender\n",
    "print(f\"The gender with the most Nobel laureates is : {top_gender}\")\n",
    "## Display Top Country\n",
    "print(f\"The most common birth country of Nobel laureates is : {top_country}\")"
   ]
  },
  {
   "cell_type": "markdown",
   "id": "7d0cfa81-20f9-48e4-9929-c7f09b793b5f",
   "metadata": {},
   "source": [
    "### Identify the decade with the highest proportion of US-born winners"
   ]
  },
  {
   "cell_type": "code",
   "execution_count": 127,
   "id": "ac12990c-1ae9-436c-9b9b-5662ce9e4444",
   "metadata": {
    "executionCancelledAt": null,
    "executionTime": 208,
    "lastExecutedAt": 1703111145882,
    "lastScheduledRunId": null,
    "lastSuccessfullyExecutedCode": "## Country == \"USA\"\nnobel['usa_born_winner'] = nobel['birth_country'] == 'United States of America'\n\n## decade a period of ten years.\nnobel['decade'] = (np.floor(nobel['year'] / 10) * 10).astype(int)\n\n## propotion of USA born wineers per decade\nprop_usa_winners = nobel.groupby('decade', as_index=False)['usa_born_winner'].mean()\n\n## Highest Propotion\n## prop_usa_winners[\"usa_born_winner\"].max()\nmax_decade_usa = prop_usa_winners[prop_usa_winners['usa_born_winner'] == prop_usa_winners['usa_born_winner'].max()]['decade'].values[0]\nprint(f\"the decade with the highest proportion of US-born winners : {max_decade_usa}\")\n\n_ = sns.relplot(x=\"decade\", y=\"usa_born_winner\", data=prop_usa_winners, kind=\"line\")\n## plt.title(\"proportion of US-born winners Vs. decade.\")",
    "outputsMetadata": {
     "0": {
      "height": 37,
      "type": "stream"
     }
    }
   },
   "outputs": [
    {
     "name": "stdout",
     "output_type": "stream",
     "text": [
      "the decade with the highest proportion of US-born winners : 2000\n"
     ]
    },
    {
     "data": {
      "image/png": "[encoded data removed]",
      "text/plain": [
       "<Figure size 500x500 with 1 Axes>"
      ]
     },
     "metadata": {},
     "output_type": "display_data"
    }
   ],
   "source": [
    "## Country == \"USA\"\n",
    "nobel['usa_born_winner'] = nobel['birth_country'] == 'United States of America'\n",
    "\n",
    "## decade a period of ten years.\n",
    "nobel['decade'] = (np.floor(nobel['year'] / 10) * 10).astype(int)\n",
    "\n",
    "## propotion of USA born wineers per decade\n",
    "prop_usa_winners = nobel.groupby('decade', as_index=False)['usa_born_winner'].mean()\n",
    "\n",
    "## Highest Propotion\n",
    "## prop_usa_winners[\"usa_born_winner\"].max()\n",
    "max_decade_usa = prop_usa_winners[prop_usa_winners['usa_born_winner'] == prop_usa_winners['usa_born_winner'].max()]['decade'].values[0]\n",
    "print(f\"the decade with the highest proportion of US-born winners : {max_decade_usa}\")\n",
    "\n",
    "_ = sns.relplot(x=\"decade\", y=\"usa_born_winner\", data=prop_usa_winners, kind=\"line\")\n",
    "## plt.title(\"proportion of US-born winners Vs. decade.\")"
   ]
  },
  {
   "cell_type": "markdown",
   "id": "0a999096-4207-4c99-8573-b4342d10b601",
   "metadata": {},
   "source": [
    "### Find the decade and category with the highest proportion of female laureates."
   ]
  },
  {
   "cell_type": "code",
   "execution_count": 132,
   "id": "b83fb110-7e87-43f6-8fdb-7131b9d862d4",
   "metadata": {
    "executionCancelledAt": null,
    "executionTime": 18,
    "lastExecutedAt": 1703111209187,
    "lastScheduledRunId": null,
    "lastSuccessfullyExecutedCode": "## Sex == \"F\"\nnobel['female_winner'] = nobel['sex'] == 'Female'\n\n## female winner groupby decade && category \nprop_female_winners = nobel.groupby([\"decade\", \"category\"], as_index=False)[\"female_winner\"].max()\n\n## the decade and category with the highest proportion of female laureates\nmax_female_decade_category = prop_female_winners[prop_female_winners['female_winner'] == prop_female_winners['female_winner'].max()][['decade', 'category']]\n\n## Dict(decade:category)\nmax_female_dict = {max_female_decade_category['decade'].values[0]: max_female_decade_category['category'].values[0]}\nprint(max_female_dict)\n## plot using seaborn\n## _ = sns.relplot(x='decade', y='female_winner', hue='category', data=prop_female_winners, kind=\"line\")",
    "outputsMetadata": {
     "0": {
      "height": 37,
      "type": "stream"
     }
    }
   },
   "outputs": [
    {
     "name": "stdout",
     "output_type": "stream",
     "text": [
      "{1900: 'Literature'}\n"
     ]
    }
   ],
   "source": [
    "## Sex == \"F\"\n",
    "nobel['female_winner'] = nobel['sex'] == 'Female'\n",
    "\n",
    "## female winner groupby decade && category \n",
    "prop_female_winners = nobel.groupby([\"decade\", \"category\"], as_index=False)[\"female_winner\"].max()\n",
    "\n",
    "## the decade and category with the highest proportion of female laureates\n",
    "max_female_decade_category = prop_female_winners[prop_female_winners['female_winner'] == prop_female_winners['female_winner'].max()][['decade', 'category']]\n",
    "\n",
    "## Dict(decade:category)\n",
    "max_female_dict = {max_female_decade_category['decade'].values[0]: max_female_decade_category['category'].values[0]}\n",
    "print(max_female_dict)\n",
    "## plot using seaborn\n",
    "## _ = sns.relplot(x='decade', y='female_winner', hue='category', data=prop_female_winners, kind=\"line\")"
   ]
  },
  {
   "cell_type": "markdown",
   "id": "260cee92-2181-430a-b379-16dae63e6e42",
   "metadata": {},
   "source": [
    "### Find first woman to win a Nobel Prize."
   ]
  },
  {
   "cell_type": "code",
   "execution_count": 130,
   "id": "d30ef61f-d3bc-4ad2-8114-3e77cfcb4bcb",
   "metadata": {
    "executionCancelledAt": null,
    "executionTime": 17,
    "lastExecutedAt": 1703111153939,
    "lastScheduledRunId": null,
    "lastSuccessfullyExecutedCode": "## Female Winner \nnobel_women = nobel[nobel['female_winner']]\n\n## find the first woman to win prize.\nmin_row = nobel_women[nobel_women[\"year\"] == nobel_women[\"year\"].min()]\n\n## find her name and category\nfirst_woman_name = min_row['full_name'].values[0]\nfirst_woman_category = min_row['category'].values[0]\nprint(f\"\\n The first woman to win a Nobel Prize was {first_woman_name}, in the category of {first_woman_category}.\")",
    "outputsMetadata": {
     "0": {
      "height": 57,
      "type": "stream"
     }
    }
   },
   "outputs": [
    {
     "name": "stdout",
     "output_type": "stream",
     "text": [
      "\n",
      " The first woman to win a Nobel Prize was Marie Curie, née Sklodowska, in the category of Physics.\n"
     ]
    }
   ],
   "source": [
    "## Female Winner \n",
    "nobel_women = nobel[nobel['female_winner']]\n",
    "\n",
    "## find the first woman to win prize.\n",
    "min_row = nobel_women[nobel_women[\"year\"] == nobel_women[\"year\"].min()]\n",
    "\n",
    "## find her name and category\n",
    "first_woman_name = min_row['full_name'].values[0]\n",
    "first_woman_category = min_row['category'].values[0]\n",
    "print(f\"\\n The first woman to win a Nobel Prize was {first_woman_name}, in the category of {first_woman_category}.\")"
   ]
  },
  {
   "cell_type": "markdown",
   "id": "4f003f19-b1ff-42f9-8536-87b4c642ea1e",
   "metadata": {},
   "source": [
    "### Determine repeat winners"
   ]
  },
  {
   "cell_type": "code",
   "execution_count": 131,
   "id": "6c596c4f-d325-4778-b361-68abb17ee988",
   "metadata": {
    "executionCancelledAt": null,
    "executionTime": 16,
    "lastExecutedAt": 1703111156536,
    "lastScheduledRunId": null,
    "lastSuccessfullyExecutedCode": "## mmmmm.. repeat winners ? yes , mm (count of full name in the col. 2 or more)\ncounts = nobel[\"full_name\"].value_counts()\nrepeats = counts[counts >= 2].index\nrepeat_list = list(repeats)\n## Print \nprint(\"The repeat winners are :\", repeat_list)",
    "outputsMetadata": {
     "0": {
      "height": 77,
      "type": "stream"
     }
    }
   },
   "outputs": [
    {
     "name": "stdout",
     "output_type": "stream",
     "text": [
      "The repeat winners are : ['Comité international de la Croix Rouge (International Committee of the Red Cross)', 'Linus Carl Pauling', 'John Bardeen', 'Frederick Sanger', 'Marie Curie, née Sklodowska', 'Office of the United Nations High Commissioner for Refugees (UNHCR)']\n"
     ]
    }
   ],
   "source": [
    "## mmmmm.. repeat winners ? yes , mm (count of full name in the col. 2 or more)\n",
    "counts = nobel[\"full_name\"].value_counts()\n",
    "repeats = counts[counts >= 2].index\n",
    "repeat_list = list(repeats)\n",
    "## Print \n",
    "print(\"The repeat winners are :\", repeat_list)"
   ]
  }
 ],
 "metadata": {
  "editor": "DataCamp Workspace",
  "kernelspec": {
   "display_name": "Python 3 (ipykernel)",
   "language": "python",
   "name": "python3"
  },
  "language_info": {
   "codemirror_mode": {
    "name": "ipython",
    "version": 3
   },
   "file_extension": ".py",
   "mimetype": "text/x-python",
   "name": "python",
   "nbconvert_exporter": "python",
   "pygments_lexer": "ipython3",
   "version": "3.11.3"
  }
 },
 "nbformat": 4,
 "nbformat_minor": 5
}
